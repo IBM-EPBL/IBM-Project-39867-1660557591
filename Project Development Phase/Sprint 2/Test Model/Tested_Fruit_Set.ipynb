{
  "nbformat": 4,
  "nbformat_minor": 0,
  "metadata": {
    "colab": {
      "provenance": []
    },
    "kernelspec": {
      "name": "python3",
      "display_name": "Python 3"
    },
    "language_info": {
      "name": "python"
    }
  },
  "cells": [
    {
      "cell_type": "code",
      "execution_count": 1,
      "metadata": {
        "colab": {
          "base_uri": "https://localhost:8080/"
        },
        "id": "U8AaV75pWctk",
        "outputId": "876001af-a190-40fd-ddcc-387a47a2dc20"
      },
      "outputs": [
        {
          "output_type": "stream",
          "name": "stdout",
          "text": [
            "Mounted at /content/gdrive\n"
          ]
        }
      ],
      "source": [
        "from google.colab import drive\n",
        "drive.mount('/content/gdrive')"
      ]
    },
    {
      "cell_type": "code",
      "source": [
        "!unzip gdrive/MyDrive/Fertilizers_Recommendation_\\ System_For_Disease_\\ Prediction.zip"
      ],
      "metadata": {
        "id": "w2jyTzfuW8yK"
      },
      "execution_count": null,
      "outputs": []
    },
    {
      "cell_type": "code",
      "source": [
        "import cv2\n",
        "from matplotlib import pyplot as plt\n",
        "import os\n",
        "import numpy as np\n",
        "from tensorflow.keras.preprocessing.image import load_img\n",
        "from tensorflow.keras.preprocessing.image import img_to_array\n",
        "from tensorflow.keras.models import load_model"
      ],
      "metadata": {
        "id": "rJFmMPUXW-Rx"
      },
      "execution_count": 13,
      "outputs": []
    },
    {
      "cell_type": "code",
      "source": [
        "model = load_model('/content/gdrive/MyDrive/fruitdata.h5')"
      ],
      "metadata": {
        "id": "jE9jRt4dXE9i"
      },
      "execution_count": 4,
      "outputs": []
    },
    {
      "cell_type": "code",
      "source": [
        "image = cv2.imread('/content/Dataset Plant Disease/fruit-dataset/fruit-dataset/train/Apple___Black_rot/1452dba2-3694-4657-ac64-fed65ebea056___JR_FrgE.S 3081.JPG')\n",
        "test_image = cv2.resize(image, (128,128))  \n",
        "  \n",
        "test_image = img_to_array(test_image)/255 \n",
        "test_image = np.expand_dims(test_image, axis = 0) \n",
        "  \n",
        "result = model.predict(test_image) \n",
        "  \n",
        "pred = np.argmax(result, axis=1)\n",
        "print(pred)\n",
        "if pred==0:\n",
        "    print( \"Apple___Black_rot\")\n",
        "       \n",
        "elif pred==1:\n",
        "    print(\"Apple___healthy\")\n",
        "        \n",
        "elif pred==2:\n",
        "    print(\"Corn_(maize)___healthy\")\n",
        "        \n",
        "elif pred==3:\n",
        "    print(\"Corn_(maize)___Northern_Leaf_Blight\")\n",
        "       \n",
        "elif pred==4:\n",
        "    print(\"Peach___Bacterial_spot\")\n",
        "        \n",
        "elif pred==5:\n",
        "    print(\"Peach___healthy\")"
      ],
      "metadata": {
        "id": "nKjnfVBwhALO",
        "colab": {
          "base_uri": "https://localhost:8080/"
        },
        "outputId": "9ab3712b-b940-4462-8e70-94a4ea288e53"
      },
      "execution_count": 27,
      "outputs": [
        {
          "output_type": "stream",
          "name": "stdout",
          "text": [
            "1/1 [==============================] - 0s 37ms/step\n",
            "[0]\n",
            "Apple___Black_rot\n"
          ]
        }
      ]
    }
  ]
}