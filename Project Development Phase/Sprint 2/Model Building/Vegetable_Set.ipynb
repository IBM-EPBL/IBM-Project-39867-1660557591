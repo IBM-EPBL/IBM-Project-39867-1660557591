{
  "cells": [
    {
      "cell_type": "code",
      "execution_count": null,
      "metadata": {
        "colab": {
          "base_uri": "https://localhost:8080/"
        },
        "id": "imy1J63WaEAB",
        "outputId": "f55ff276-41b6-42ee-9971-0c26b0bde0d7"
      },
      "outputs": [
        {
          "name": "stdout",
          "output_type": "stream",
          "text": [
            "Mounted at /content/gdrive\n"
          ]
        }
      ],
      "source": [
        "from google.colab import drive\n",
        "drive.mount('/content/gdrive')"
      ]
    },
    {
      "cell_type": "code",
      "execution_count": null,
      "metadata": {
        "id": "sDIaWFjzaa2Q"
      },
      "outputs": [],
      "source": [
        "!unzip drive/MyDrive/Fertilizers_Recommendation_\\ System_For_Disease_\\ Prediction.zip"
      ]
    },
    {
      "cell_type": "code",
      "execution_count": 61,
      "metadata": {
        "id": "AAXR5dLqabjZ"
      },
      "outputs": [],
      "source": [
        "import numpy as np\n",
        "import cv2\n",
        "from tensorflow.keras.models import Sequential\n",
        "from tensorflow.keras.layers import Conv2D\n",
        "from tensorflow.keras.layers import MaxPooling2D\n",
        "from tensorflow.keras.layers import Flatten\n",
        "from tensorflow.keras.layers import Dropout\n",
        "from tensorflow.keras.layers import Dense\n",
        "from tensorflow.keras.preprocessing.image import ImageDataGenerator\n",
        "from tensorflow.keras.preprocessing import image\n",
        "from tensorflow.keras.preprocessing.image import img_to_array\n",
        "import matplotlib.pyplot as plt"
      ]
    },
    {
      "cell_type": "code",
      "execution_count": 3,
      "metadata": {
        "id": "fpSmWYC7eYX3"
      },
      "outputs": [],
      "source": [
        "train_datagen=ImageDataGenerator(rescale=1./255,shear_range=0.2,rotation_range=25,width_shift_range=0.1,\n",
        "    height_shift_range=0.1,zoom_range=0.2,horizontal_flip=True,vertical_flip=False,fill_mode=\"nearest\")\n",
        "test_datagen=ImageDataGenerator(rescale=1./255)"
      ]
    },
    {
      "cell_type": "code",
      "execution_count": 4,
      "metadata": {
        "id": "Gfuqk4xHerS0"
      },
      "outputs": [],
      "source": [
        "path_train = '/content/Dataset Plant Disease/Veg-dataset/Veg-dataset/train_set'\n",
        "path_test = '/content/Dataset Plant Disease/Veg-dataset/Veg-dataset/test_set'"
      ]
    },
    {
      "cell_type": "code",
      "execution_count": 5,
      "metadata": {
        "colab": {
          "base_uri": "https://localhost:8080/"
        },
        "id": "iQqqOh9geuqo",
        "outputId": "18be6bf6-25a8-4a6e-f77d-62df2d6d76ec"
      },
      "outputs": [
        {
          "output_type": "stream",
          "name": "stdout",
          "text": [
            "Found 11386 images belonging to 9 classes.\n",
            "Found 3416 images belonging to 9 classes.\n"
          ]
        }
      ],
      "source": [
        "x_train=train_datagen.flow_from_directory(path_train,target_size=(128,128),\n",
        "                                        class_mode='categorical',batch_size=24)\n",
        "x_test=test_datagen.flow_from_directory(path_test,target_size=(128,128),\n",
        "                                        class_mode='categorical',batch_size=24)"
      ]
    },
    {
      "cell_type": "code",
      "execution_count": 6,
      "metadata": {
        "id": "EsfXQrv4Fc5g"
      },
      "outputs": [],
      "source": [
        "model = Sequential()"
      ]
    },
    {
      "cell_type": "code",
      "execution_count": 7,
      "metadata": {
        "id": "a9GSfbT_fPRV"
      },
      "outputs": [],
      "source": [
        "# Step 1 - Convolution\n",
        "model.add(Conv2D(32, (3, 3), input_shape = (128, 128, 3), activation = 'relu'))\n",
        "\n",
        "# Step 2 - Pooling\n",
        "model.add(MaxPooling2D(pool_size = (2, 2)))\n",
        "\n",
        "# Adding a second convolutional layer\n",
        "model.add(Conv2D(32, (3, 3), activation = 'relu'))\n",
        "model.add(MaxPooling2D(pool_size = (2, 2)))\n",
        "\n",
        "# Step 3 - Flattening\n",
        "model.add(Flatten())\n",
        "\n",
        "# Step 4 - Full connection\n",
        "model.add(Dense(units = 300, activation = 'relu'))\n",
        "model.add(Dense(units = 150, activation = 'relu'))\n",
        "model.add(Dense(units = 9, activation = 'softmax'))"
      ]
    },
    {
      "cell_type": "code",
      "execution_count": 8,
      "metadata": {
        "colab": {
          "base_uri": "https://localhost:8080/"
        },
        "id": "wBRCP0YwhNio",
        "outputId": "835f19ee-105f-4775-8948-92bebe2e4f65"
      },
      "outputs": [
        {
          "output_type": "stream",
          "name": "stdout",
          "text": [
            "Model: \"sequential\"\n",
            "_________________________________________________________________\n",
            " Layer (type)                Output Shape              Param #   \n",
            "=================================================================\n",
            " conv2d (Conv2D)             (None, 126, 126, 32)      896       \n",
            "                                                                 \n",
            " max_pooling2d (MaxPooling2D  (None, 63, 63, 32)       0         \n",
            " )                                                               \n",
            "                                                                 \n",
            " conv2d_1 (Conv2D)           (None, 61, 61, 32)        9248      \n",
            "                                                                 \n",
            " max_pooling2d_1 (MaxPooling  (None, 30, 30, 32)       0         \n",
            " 2D)                                                             \n",
            "                                                                 \n",
            " flatten (Flatten)           (None, 28800)             0         \n",
            "                                                                 \n",
            " dense (Dense)               (None, 300)               8640300   \n",
            "                                                                 \n",
            " dense_1 (Dense)             (None, 150)               45150     \n",
            "                                                                 \n",
            " dense_2 (Dense)             (None, 9)                 1359      \n",
            "                                                                 \n",
            "=================================================================\n",
            "Total params: 8,696,953\n",
            "Trainable params: 8,696,953\n",
            "Non-trainable params: 0\n",
            "_________________________________________________________________\n"
          ]
        }
      ],
      "source": [
        "model.summary()"
      ]
    },
    {
      "cell_type": "code",
      "execution_count": 9,
      "metadata": {
        "id": "Ffk3nX9Khb5f"
      },
      "outputs": [],
      "source": [
        "model.compile(loss=\"categorical_crossentropy\", optimizer=\"adam\",metrics=[\"accuracy\"])"
      ]
    },
    {
      "cell_type": "code",
      "execution_count": 10,
      "metadata": {
        "colab": {
          "base_uri": "https://localhost:8080/"
        },
        "id": "QVQbGknyhp-3",
        "outputId": "b81b6e1d-7ab2-4360-ef48-857b96b60dac"
      },
      "outputs": [
        {
          "output_type": "stream",
          "name": "stdout",
          "text": [
            "Epoch 1/10\n",
            "475/475 [==============================] - 72s 133ms/step - loss: 1.2874 - accuracy: 0.5413 - val_loss: 0.6588 - val_accuracy: 0.7632\n",
            "Epoch 2/10\n",
            "475/475 [==============================] - 62s 131ms/step - loss: 0.6855 - accuracy: 0.7508 - val_loss: 0.5950 - val_accuracy: 0.7878\n",
            "Epoch 3/10\n",
            "475/475 [==============================] - 61s 128ms/step - loss: 0.5188 - accuracy: 0.8151 - val_loss: 0.4609 - val_accuracy: 0.8390\n",
            "Epoch 4/10\n",
            "475/475 [==============================] - 60s 127ms/step - loss: 0.4291 - accuracy: 0.8496 - val_loss: 0.3351 - val_accuracy: 0.8882\n",
            "Epoch 5/10\n",
            "475/475 [==============================] - 60s 125ms/step - loss: 0.3739 - accuracy: 0.8683 - val_loss: 0.3430 - val_accuracy: 0.8855\n",
            "Epoch 6/10\n",
            "475/475 [==============================] - 59s 125ms/step - loss: 0.3159 - accuracy: 0.8879 - val_loss: 0.2993 - val_accuracy: 0.8990\n",
            "Epoch 7/10\n",
            "475/475 [==============================] - 59s 125ms/step - loss: 0.2806 - accuracy: 0.9039 - val_loss: 0.2815 - val_accuracy: 0.8970\n",
            "Epoch 8/10\n",
            "475/475 [==============================] - 60s 126ms/step - loss: 0.2717 - accuracy: 0.9046 - val_loss: 0.1638 - val_accuracy: 0.9379\n",
            "Epoch 9/10\n",
            "475/475 [==============================] - 60s 126ms/step - loss: 0.2516 - accuracy: 0.9113 - val_loss: 0.2631 - val_accuracy: 0.9037\n",
            "Epoch 10/10\n",
            "475/475 [==============================] - 60s 127ms/step - loss: 0.2318 - accuracy: 0.9181 - val_loss: 0.3147 - val_accuracy: 0.8958\n"
          ]
        }
      ],
      "source": [
        "history=model.fit(x_train,steps_per_epoch=len(x_train),validation_data=x_test,validation_steps=len(x_test),epochs=10)"
      ]
    },
    {
      "cell_type": "code",
      "execution_count": 11,
      "metadata": {
        "colab": {
          "base_uri": "https://localhost:8080/",
          "height": 545
        },
        "id": "4di3jEDN6WU9",
        "outputId": "425cfd48-2f08-42d7-e48a-b535d07c209f"
      },
      "outputs": [
        {
          "output_type": "display_data",
          "data": {
            "text/plain": [
              "<Figure size 432x288 with 1 Axes>"
            ],
            "image/png": "[encoded data removed]"
          },
          "metadata": {
            "needs_background": "light"
          }
        },
        {
          "output_type": "display_data",
          "data": {
            "text/plain": [
              "<Figure size 432x288 with 1 Axes>"
            ],
            "image/png": "[encoded data removed]"
          },
          "metadata": {
            "needs_background": "light"
          }
        }
      ],
      "source": [
        "acc = history.history['accuracy']\n",
        "val_acc = history.history['val_accuracy']\n",
        "loss = history.history['loss']\n",
        "val_loss = history.history['val_loss']\n",
        "epochs = range(1, len(acc) + 1)\n",
        "#Train and validation accuracy\n",
        "plt.plot(epochs, acc, 'b', label='Training accurarcy')\n",
        "plt.plot(epochs, val_acc, 'r', label='Validation accurarcy')\n",
        "plt.title('Training and Validation accurarcy')\n",
        "plt.legend()\n",
        "\n",
        "plt.figure()\n",
        "#Train and validation loss\n",
        "plt.plot(epochs, loss, 'b', label='Training loss')\n",
        "plt.plot(epochs, val_loss, 'r', label='Validation loss')\n",
        "plt.title('Training and Validation loss')\n",
        "plt.legend()\n",
        "plt.show()"
      ]
    },
    {
      "cell_type": "code",
      "execution_count": 12,
      "metadata": {
        "colab": {
          "base_uri": "https://localhost:8080/"
        },
        "id": "WCO1tpnT63iv",
        "outputId": "b0f0be6e-c960-4558-cf31-2aa2f1445f24"
      },
      "outputs": [
        {
          "output_type": "stream",
          "name": "stdout",
          "text": [
            "[INFO] Calculating model accuracy\n",
            "143/143 [==============================] - 6s 38ms/step - loss: 0.3147 - accuracy: 0.8958\n",
            "Test Accuracy: 89.57845568656921\n"
          ]
        }
      ],
      "source": [
        "print(\"[INFO] Calculating model accuracy\")\n",
        "scores = model.evaluate(x_test)\n",
        "print(f\"Test Accuracy: {scores[1]*100}\")"
      ]
    },
    {
      "cell_type": "code",
      "execution_count": 69,
      "metadata": {
        "id": "JddtkEA-75i_"
      },
      "outputs": [],
      "source": [
        "model.save('Vegetable.h5')"
      ]
    }
  ],
  "metadata": {
    "accelerator": "GPU",
    "colab": {
      "collapsed_sections": [],
      "provenance": []
    },
    "gpuClass": "standard",
    "kernelspec": {
      "display_name": "Python 3",
      "name": "python3"
    },
    "language_info": {
      "name": "python"
    }
  },
  "nbformat": 4,
  "nbformat_minor": 0
}