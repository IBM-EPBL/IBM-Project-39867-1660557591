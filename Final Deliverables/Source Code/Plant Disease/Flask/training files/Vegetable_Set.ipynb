{
  "cells": [
    {
      "cell_type": "code",
      "execution_count": null,
      "metadata": {
        "colab": {
          "base_uri": "https://localhost:8080/"
        },
        "id": "imy1J63WaEAB",
        "outputId": "c7fb9ee4-380e-4261-b49d-09b80432f5d4"
      },
      "outputs": [
        {
          "name": "stdout",
          "output_type": "stream",
          "text": [
            "Mounted at /content/gdrive\n"
          ]
        }
      ],
      "source": [
        "from google.colab import drive\n",
        "drive.mount('/content/gdrive')"
      ]
    },
    {
      "cell_type": "code",
      "execution_count": null,
      "metadata": {
        "colab": {
          "background_save": true,
          "base_uri": "https://localhost:8080/"
        },
        "id": "sDIaWFjzaa2Q",
        "outputId": "c1ac489e-3b98-4aaf-8456-ce883703c06d"
      },
      "outputs": [
        {
          "name": "stdout",
          "output_type": "stream",
          "text": [
            "unzip:  cannot find or open gdrive/MyDrive/Fertilizers_Recommendation_ System_For_Disease_ Prediction.zip, gdrive/MyDrive/Fertilizers_Recommendation_ System_For_Disease_ Prediction.zip.zip or gdrive/MyDrive/Fertilizers_Recommendation_ System_For_Disease_ Prediction.zip.ZIP.\n"
          ]
        }
      ],
      "source": [
        "!unzip gdrive/MyDrive/Fertilizers_Recommendation_\\ System_For_Disease_\\ Prediction.zip"
      ]
    },
    {
      "cell_type": "code",
      "execution_count": null,
      "metadata": {
        "colab": {
          "background_save": true
        },
        "id": "AAXR5dLqabjZ"
      },
      "outputs": [],
      "source": [
        "import numpy as np\n",
        "import cv2\n",
        "from tensorflow.keras.models import Sequential\n",
        "from tensorflow.keras.layers import Conv2D\n",
        "from tensorflow.keras.layers import MaxPooling2D\n",
        "from tensorflow.keras.layers import Flatten\n",
        "from tensorflow.keras.layers import Dropout\n",
        "from tensorflow.keras.layers import Dense\n",
        "from tensorflow.keras.preprocessing.image import ImageDataGenerator\n",
        "from tensorflow.keras.preprocessing import image\n",
        "from tensorflow.keras.preprocessing.image import img_to_array\n",
        "import matplotlib.pyplot as plt"
      ]
    },
    {
      "cell_type": "code",
      "execution_count": null,
      "metadata": {
        "colab": {
          "background_save": true
        },
        "id": "fpSmWYC7eYX3"
      },
      "outputs": [],
      "source": [
        "train_datagen=ImageDataGenerator(rescale=1./255,shear_range=0.2,rotation_range=25,width_shift_range=0.1,\n",
        "    height_shift_range=0.1,zoom_range=0.2,horizontal_flip=True,vertical_flip=False,fill_mode=\"nearest\")\n",
        "test_datagen=ImageDataGenerator(rescale=1./255)"
      ]
    },
    {
      "cell_type": "code",
      "execution_count": null,
      "metadata": {
        "id": "Gfuqk4xHerS0"
      },
      "outputs": [],
      "source": [
        "path_train = '/content/Dataset Plant Disease/Veg-dataset/Veg-dataset/train_set'\n",
        "path_test = '/content/Dataset Plant Disease/Veg-dataset/Veg-dataset/test_set'"
      ]
    },
    {
      "cell_type": "code",
      "execution_count": null,
      "metadata": {
        "colab": {
          "base_uri": "https://localhost:8080/"
        },
        "id": "iQqqOh9geuqo",
        "outputId": "301d346c-73d5-4240-91d1-84d250887031"
      },
      "outputs": [
        {
          "name": "stdout",
          "output_type": "stream",
          "text": [
            "Found 11386 images belonging to 9 classes.\n",
            "Found 3416 images belonging to 9 classes.\n"
          ]
        }
      ],
      "source": [
        "x_train=train_datagen.flow_from_directory(path_train,target_size=(128,128),\n",
        "                                        class_mode='categorical',batch_size=24)\n",
        "x_test=test_datagen.flow_from_directory(path_test,target_size=(128,128),\n",
        "                                        class_mode='categorical',batch_size=24)"
      ]
    },
    {
      "cell_type": "code",
      "execution_count": null,
      "metadata": {
        "id": "EsfXQrv4Fc5g"
      },
      "outputs": [],
      "source": [
        "model = Sequential()"
      ]
    },
    {
      "cell_type": "code",
      "execution_count": null,
      "metadata": {
        "id": "a9GSfbT_fPRV"
      },
      "outputs": [],
      "source": [
        "# Step 1 - Convolution\n",
        "model.add(Conv2D(32, (3, 3), input_shape = (128, 128, 3), activation = 'relu'))\n",
        "\n",
        "# Step 2 - Pooling\n",
        "model.add(MaxPooling2D(pool_size = (2, 2)))\n",
        "\n",
        "# Adding a second convolutional layer\n",
        "model.add(Conv2D(32, (3, 3), activation = 'relu'))\n",
        "model.add(MaxPooling2D(pool_size = (2, 2)))\n",
        "\n",
        "# Step 3 - Flattening\n",
        "model.add(Flatten())\n",
        "\n",
        "# Step 4 - Full connection\n",
        "model.add(Dense(units = 300, activation = 'relu'))\n",
        "model.add(Dense(units = 150, activation = 'relu'))\n",
        "model.add(Dense(units = 9, activation = 'softmax'))"
      ]
    },
    {
      "cell_type": "code",
      "execution_count": null,
      "metadata": {
        "colab": {
          "base_uri": "https://localhost:8080/"
        },
        "id": "wBRCP0YwhNio",
        "outputId": "c1995bdc-b260-40d7-b510-d6eb9cbe6bac"
      },
      "outputs": [
        {
          "name": "stdout",
          "output_type": "stream",
          "text": [
            "Model: \"sequential\"\n",
            "_________________________________________________________________\n",
            " Layer (type)                Output Shape              Param #   \n",
            "=================================================================\n",
            " conv2d (Conv2D)             (None, 126, 126, 32)      896       \n",
            "                                                                 \n",
            " max_pooling2d (MaxPooling2D  (None, 63, 63, 32)       0         \n",
            " )                                                               \n",
            "                                                                 \n",
            " conv2d_1 (Conv2D)           (None, 61, 61, 32)        9248      \n",
            "                                                                 \n",
            " max_pooling2d_1 (MaxPooling  (None, 30, 30, 32)       0         \n",
            " 2D)                                                             \n",
            "                                                                 \n",
            " flatten (Flatten)           (None, 28800)             0         \n",
            "                                                                 \n",
            " dense (Dense)               (None, 300)               8640300   \n",
            "                                                                 \n",
            " dense_1 (Dense)             (None, 150)               45150     \n",
            "                                                                 \n",
            " dense_2 (Dense)             (None, 9)                 1359      \n",
            "                                                                 \n",
            "=================================================================\n",
            "Total params: 8,696,953\n",
            "Trainable params: 8,696,953\n",
            "Non-trainable params: 0\n",
            "_________________________________________________________________\n"
          ]
        }
      ],
      "source": [
        "model.summary()"
      ]
    },
    {
      "cell_type": "code",
      "execution_count": null,
      "metadata": {
        "id": "Ffk3nX9Khb5f"
      },
      "outputs": [],
      "source": [
        "model.compile(loss=\"categorical_crossentropy\", optimizer=\"adam\",metrics=[\"accuracy\"])"
      ]
    },
    {
      "cell_type": "code",
      "execution_count": null,
      "metadata": {
        "colab": {
          "background_save": true,
          "base_uri": "https://localhost:8080/"
        },
        "id": "QVQbGknyhp-3",
        "outputId": "4a0cf8fa-9919-4724-8d09-701db37c6d43"
      },
      "outputs": [
        {
          "name": "stdout",
          "output_type": "stream",
          "text": [
            "Epoch 1/10\n",
            "475/475 [==============================] - 70s 128ms/step - loss: 1.2804 - accuracy: 0.5444 - val_loss: 0.9613 - val_accuracy: 0.6595\n",
            "Epoch 2/10\n",
            "475/475 [==============================] - 60s 125ms/step - loss: 0.6732 - accuracy: 0.7615 - val_loss: 0.6857 - val_accuracy: 0.7652\n",
            "Epoch 3/10\n",
            "475/475 [==============================] - 60s 125ms/step - loss: 0.4856 - accuracy: 0.8302 - val_loss: 0.3570 - val_accuracy: 0.8732\n",
            "Epoch 4/10\n",
            "475/475 [==============================] - 60s 127ms/step - loss: 0.4231 - accuracy: 0.8513 - val_loss: 0.2943 - val_accuracy: 0.8993\n",
            "Epoch 5/10\n",
            "475/475 [==============================] - 59s 125ms/step - loss: 0.3567 - accuracy: 0.8734 - val_loss: 0.2830 - val_accuracy: 0.8946\n",
            "Epoch 6/10\n",
            "475/475 [==============================] - 59s 125ms/step - loss: 0.3081 - accuracy: 0.8895 - val_loss: 0.2184 - val_accuracy: 0.9271\n",
            "Epoch 7/10\n",
            "475/475 [==============================] - 59s 124ms/step - loss: 0.2990 - accuracy: 0.8943 - val_loss: 0.2490 - val_accuracy: 0.9119\n",
            "Epoch 8/10\n",
            "475/475 [==============================] - 59s 124ms/step - loss: 0.2541 - accuracy: 0.9087 - val_loss: 0.2064 - val_accuracy: 0.9327\n",
            "Epoch 9/10\n",
            "475/475 [==============================] - 58s 123ms/step - loss: 0.2513 - accuracy: 0.9153 - val_loss: 0.2389 - val_accuracy: 0.9198\n",
            "Epoch 10/10\n",
            "475/475 [==============================] - 59s 123ms/step - loss: 0.2346 - accuracy: 0.9196 - val_loss: 0.2618 - val_accuracy: 0.9049\n"
          ]
        }
      ],
      "source": [
        "history=model.fit(x_train,steps_per_epoch=len(x_train),validation_data=x_test,validation_steps=len(x_test),epochs=10)"
      ]
    },
    {
      "cell_type": "code",
      "execution_count": null,
      "metadata": {
        "colab": {
          "base_uri": "https://localhost:8080/",
          "height": 545
        },
        "id": "4di3jEDN6WU9",
        "outputId": "6a897454-869e-4fd9-f879-b1fc1b34cd80"
      },
      "outputs": [
        {
          "data": {
            "image/png": "[encoded data removed]",
            "text/plain": [
              "<Figure size 432x288 with 1 Axes>"
            ]
          },
          "metadata": {},
          "output_type": "display_data"
        },
        {
          "data": {
            "image/png": "[encoded data removed]",
            "text/plain": [
              "<Figure size 432x288 with 1 Axes>"
            ]
          },
          "metadata": {},
          "output_type": "display_data"
        }
      ],
      "source": [
        "acc = history.history['accuracy']\n",
        "val_acc = history.history['val_accuracy']\n",
        "loss = history.history['loss']\n",
        "val_loss = history.history['val_loss']\n",
        "epochs = range(1, len(acc) + 1)\n",
        "#Train and validation accuracy\n",
        "plt.plot(epochs, acc, 'b', label='Training accurarcy')\n",
        "plt.plot(epochs, val_acc, 'r', label='Validation accurarcy')\n",
        "plt.title('Training and Validation accurarcy')\n",
        "plt.legend()\n",
        "\n",
        "plt.figure()\n",
        "#Train and validation loss\n",
        "plt.plot(epochs, loss, 'b', label='Training loss')\n",
        "plt.plot(epochs, val_loss, 'r', label='Validation loss')\n",
        "plt.title('Training and Validation loss')\n",
        "plt.legend()\n",
        "plt.show()"
      ]
    },
    {
      "cell_type": "code",
      "execution_count": null,
      "metadata": {
        "colab": {
          "base_uri": "https://localhost:8080/"
        },
        "id": "WCO1tpnT63iv",
        "outputId": "c7a893b8-5b66-4228-a9c3-80627762f03e"
      },
      "outputs": [
        {
          "name": "stdout",
          "output_type": "stream",
          "text": [
            "[INFO] Calculating model accuracy\n",
            "143/143 [==============================] - 6s 39ms/step - loss: 0.1928 - accuracy: 0.9359\n",
            "Test Accuracy: 93.58899593353271\n"
          ]
        }
      ],
      "source": [
        "print(\"[INFO] Calculating model accuracy\")\n",
        "scores = model.evaluate(x_test)\n",
        "print(f\"Test Accuracy: {scores[1]*100}\")"
      ]
    },
    {
      "cell_type": "code",
      "execution_count": null,
      "metadata": {
        "id": "JddtkEA-75i_"
      },
      "outputs": [],
      "source": [
        "model.save('Vegetable.h5')"
      ]
    }
  ],
  "metadata": {
    "accelerator": "GPU",
    "colab": {
      "provenance": []
    },
    "gpuClass": "standard",
    "kernelspec": {
      "display_name": "Python 3",
      "name": "python3"
    },
    "language_info": {
      "name": "python"
    }
  },
  "nbformat": 4,
  "nbformat_minor": 0
}